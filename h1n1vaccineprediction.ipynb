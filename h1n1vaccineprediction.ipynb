{
  "nbformat": 4,
  "nbformat_minor": 0,
  "metadata": {
    "colab": {
      "provenance": [],
      "authorship_tag": "ABX9TyN4nHQ7zyqj/Up19WiF6uwm",
      "include_colab_link": true
    },
    "kernelspec": {
      "name": "python3",
      "display_name": "Python 3"
    },
    "language_info": {
      "name": "python"
    }
  },
  "cells": [
    {
      "cell_type": "markdown",
      "metadata": {
        "id": "view-in-github",
        "colab_type": "text"
      },
      "source": [
        "<a href=\"https://colab.research.google.com/github/jamogh/h1n1_vaccine_prediction/blob/main/h1n1vaccineprediction.ipynb\" target=\"_parent\"><img src=\"https://colab.research.google.com/assets/colab-badge.svg\" alt=\"Open In Colab\"/></a>"
      ]
    },
    {
      "cell_type": "code",
      "execution_count": null,
      "metadata": {
        "colab": {
          "base_uri": "https://localhost:8080/"
        },
        "id": "zeAkdrs_BRcO",
        "outputId": "ca7338fe-a761-47cb-f9be-cb28ff36c36c"
      },
      "outputs": [
        {
          "output_type": "stream",
          "name": "stdout",
          "text": [
            "Mounted at /content/drive\n"
          ]
        }
      ],
      "source": [
        "from google.colab import drive\n",
        "drive.mount('/content/drive')"
      ]
    },
    {
      "cell_type": "code",
      "source": [
        "import pandas as pd\n",
        "\n",
        "df = pd.read_csv(\"/content/drive/MyDrive/h1n1_vaccine_prediction.csv\")\n",
        "print(df)\n"
      ],
      "metadata": {
        "colab": {
          "base_uri": "https://localhost:8080/"
        },
        "id": "oIYE0j3SCUlu",
        "outputId": "01ab56b1-720e-4d35-e3c5-7ca646e86590"
      },
      "execution_count": null,
      "outputs": [
        {
          "output_type": "stream",
          "name": "stdout",
          "text": [
            "       unique_id  h1n1_worry  h1n1_awareness  antiviral_medication  \\\n",
            "0              0         1.0             0.0                   0.0   \n",
            "1              1         3.0             2.0                   0.0   \n",
            "2              2         1.0             1.0                   0.0   \n",
            "3              3         1.0             1.0                   0.0   \n",
            "4              4         2.0             1.0                   0.0   \n",
            "...          ...         ...             ...                   ...   \n",
            "26702      26702         2.0             0.0                   0.0   \n",
            "26703      26703         1.0             2.0                   0.0   \n",
            "26704      26704         2.0             2.0                   0.0   \n",
            "26705      26705         1.0             1.0                   0.0   \n",
            "26706      26706         0.0             0.0                   0.0   \n",
            "\n",
            "       contact_avoidance  bought_face_mask  wash_hands_frequently  \\\n",
            "0                    0.0               0.0                    0.0   \n",
            "1                    1.0               0.0                    1.0   \n",
            "2                    1.0               0.0                    0.0   \n",
            "3                    1.0               0.0                    1.0   \n",
            "4                    1.0               0.0                    1.0   \n",
            "...                  ...               ...                    ...   \n",
            "26702                1.0               0.0                    0.0   \n",
            "26703                1.0               0.0                    1.0   \n",
            "26704                1.0               1.0                    1.0   \n",
            "26705                0.0               0.0                    0.0   \n",
            "26706                1.0               0.0                    0.0   \n",
            "\n",
            "       avoid_large_gatherings  reduced_outside_home_cont  avoid_touch_face  \\\n",
            "0                         0.0                        1.0               1.0   \n",
            "1                         0.0                        1.0               1.0   \n",
            "2                         0.0                        0.0               0.0   \n",
            "3                         1.0                        0.0               0.0   \n",
            "4                         1.0                        0.0               1.0   \n",
            "...                       ...                        ...               ...   \n",
            "26702                     0.0                        1.0               0.0   \n",
            "26703                     0.0                        0.0               0.0   \n",
            "26704                     1.0                        0.0               1.0   \n",
            "26705                     0.0                        0.0               NaN   \n",
            "26706                     0.0                        0.0               0.0   \n",
            "\n",
            "       ...      race     sex               income_level  marital_status  \\\n",
            "0      ...     White  Female              Below Poverty     Not Married   \n",
            "1      ...     White    Male              Below Poverty     Not Married   \n",
            "2      ...     White    Male  <= $75,000, Above Poverty     Not Married   \n",
            "3      ...     White  Female              Below Poverty     Not Married   \n",
            "4      ...     White  Female  <= $75,000, Above Poverty         Married   \n",
            "...    ...       ...     ...                        ...             ...   \n",
            "26702  ...     White  Female  <= $75,000, Above Poverty     Not Married   \n",
            "26703  ...     White    Male  <= $75,000, Above Poverty     Not Married   \n",
            "26704  ...     White  Female                        NaN     Not Married   \n",
            "26705  ...  Hispanic  Female  <= $75,000, Above Poverty         Married   \n",
            "26706  ...     White    Male  <= $75,000, Above Poverty         Married   \n",
            "\n",
            "       housing_status          employment                census_msa  \\\n",
            "0                 Own  Not in Labor Force                   Non-MSA   \n",
            "1                Rent            Employed  MSA, Not Principle  City   \n",
            "2                 Own            Employed  MSA, Not Principle  City   \n",
            "3                Rent  Not in Labor Force       MSA, Principle City   \n",
            "4                 Own            Employed  MSA, Not Principle  City   \n",
            "...               ...                 ...                       ...   \n",
            "26702             Own  Not in Labor Force                   Non-MSA   \n",
            "26703            Rent            Employed       MSA, Principle City   \n",
            "26704             Own                 NaN  MSA, Not Principle  City   \n",
            "26705            Rent            Employed                   Non-MSA   \n",
            "26706             Own  Not in Labor Force       MSA, Principle City   \n",
            "\n",
            "       no_of_adults  no_of_children  h1n1_vaccine  \n",
            "0               0.0             0.0             0  \n",
            "1               0.0             0.0             0  \n",
            "2               2.0             0.0             0  \n",
            "3               0.0             0.0             0  \n",
            "4               1.0             0.0             0  \n",
            "...             ...             ...           ...  \n",
            "26702           0.0             0.0             0  \n",
            "26703           1.0             0.0             0  \n",
            "26704           0.0             0.0             0  \n",
            "26705           1.0             0.0             0  \n",
            "26706           1.0             0.0             0  \n",
            "\n",
            "[26707 rows x 34 columns]\n"
          ]
        }
      ]
    }
  ]
}